{
 "cells": [
  {
   "cell_type": "markdown",
   "metadata": {},
   "source": [
    "# Iris Training and Prediction with Sagemaker Scikit-learn\n",
    " 이 자습서에서는 미리 빌드된 Scikit-learn [Scikit-learn](https://scikit-learn.org/stable/) 컨테이너를 사용하여 Sagemaker에서 를 사용하는 방법을 보여 줍니다.Scikit-learn은 인기있는 파이썬 기계 학습 프레임 워크입니다.여기에는 분류, 회귀, 클러스터링, 차원 감소 및 데이터/기능 전처리를위한 다양한 알고리즘이 포함됩니다.  \n",
    "\n",
    "[sagemaker-python-sdk](https://github.com/aws/sagemaker-python-sdk) 모듈을 사용하면 기존 scikit-learn 코드를 쉽게 가져올 수 있습니다. 이 코드는 IRIS 데이터 세트에 대한 모델을 훈련하고 예측 집합을 생성하여 보여줍니다. Scikit-learn container에 대한 더 많은 정보는 이곳을 확인하십시오. [sagemaker-scikit-learn-containers](https://github.com/aws/sagemaker-scikit-learn-container) repository and the [sagemaker-python-sdk](https://github.com/aws/sagemaker-python-sdk)\n",
    "\n",
    "Scikit-learn 에 대한 더 자세한 정보는 다음을 확인하십시오: <http://scikit-learn.org/stable/>.\n",
    "\n",
    "### Table of contents\n",
    "* [Upload the data for training](#upload_data)\n",
    "* [Create a Scikit-learn script to train with](#create_sklearn_script)\n",
    "* [Create the SageMaker Scikit Estimator](#create_sklearn_estimator)\n",
    "* [Train the SKLearn Estimator on the Iris data](#train_sklearn)\n",
    "* [Using the trained model to make inference requests](#inferece)\n",
    " * [Deploy the model](#deploy)\n",
    " * [Choose some data and use it for a prediction](#prediction_request)\n",
    " * [Endpoint cleanup](#endpoint_cleanup)\n",
    "* [Batch Transform](#batch_transform)\n",
    " * [Prepare Input Data](#prepare_input_data)\n",
    " * [Run Transform Job](#run_transform_job)\n",
    " * [Check Output Data](#check_output_data)"
   ]
  },
  {
   "cell_type": "markdown",
   "metadata": {},
   "source": [
    "**Note: this example requires SageMaker Python SDK v2.**"
   ]
  },
  {
   "cell_type": "markdown",
   "metadata": {},
   "source": [
    "먼저 Sagemaker session 과 role 을 만들고 노트북 예제에 사용할 S3 prefix 를 만듭니다."
   ]
  },
  {
   "cell_type": "code",
   "execution_count": 23,
   "metadata": {},
   "outputs": [],
   "source": [
    "# S3 prefix\n",
    "prefix = \"byos/scikit-iris\"\n",
    "bucket = 'yudong-data'\n",
    "\n",
    "import sagemaker\n",
    "from sagemaker import get_execution_role\n",
    "\n",
    "sagemaker_session = sagemaker.Session()\n",
    "\n",
    "# Get a SageMaker-compatible role used by this Notebook Instance.\n",
    "role = get_execution_role()"
   ]
  },
  {
   "cell_type": "markdown",
   "metadata": {},
   "source": [
    "Sagemaker version 을 체크합니다. 본 예제는 SageMaker Python SDK v2 이상을 요구합니다."
   ]
  },
  {
   "cell_type": "code",
   "execution_count": 5,
   "metadata": {},
   "outputs": [
    {
     "data": {
      "text/plain": [
       "'2.45.0'"
      ]
     },
     "execution_count": 5,
     "metadata": {},
     "output_type": "execute_result"
    }
   ],
   "source": [
    "sagemaker.__version__"
   ]
  },
  {
   "cell_type": "markdown",
   "metadata": {},
   "source": [
    "만약에 v2 이하의 버젼인 경우 아래 코드의 주석을 제거하고 실행합니다. v2 에 대한 자세한 정보는 [다음](https://sagemaker.readthedocs.io/en/stable/v2.html) 에서 확인할 수 있습니다."
   ]
  },
  {
   "cell_type": "code",
   "execution_count": 6,
   "metadata": {},
   "outputs": [],
   "source": [
    "# %pip install -U sagemaker>=2.15"
   ]
  },
  {
   "cell_type": "markdown",
   "metadata": {},
   "source": [
    "## Upload the data for training <a class=\"anchor\" id=\"upload_data\"></a>\n",
    "\n",
    "방대한 양의 데이터가 포함된 대규모 모델을 훈련할 때는 일반적으로 Amazon Athena, AWS Gluse 또는 Amazon EMR과 같은 빅 데이터 도구를 사용하여 S3에 데이터를 생성합니다. 이 예제에서는 Scikit-learn에 포함된 아이리스 데이터 [Iris dataset](https://en.wikipedia.org/wiki/Iris_flower_data_set)를 사용합니다. 데이터를 로드하고 로컬로 작성한 다음 데이터를 s3에 씁니다."
   ]
  },
  {
   "cell_type": "code",
   "execution_count": 8,
   "metadata": {},
   "outputs": [],
   "source": [
    "import numpy as np\n",
    "import os\n",
    "from sklearn import datasets\n",
    "\n",
    "# Load Iris dataset, then join labels and features\n",
    "iris = datasets.load_iris()\n",
    "joined_iris = np.insert(iris.data, 0, iris.target, axis=1)\n",
    "\n",
    "# Create directory and write csv\n",
    "os.makedirs(\"./data\", exist_ok=True)\n",
    "np.savetxt(\"./data/iris.csv\", joined_iris, delimiter=\",\", fmt=\"%1.1f, %1.3f, %1.3f, %1.3f, %1.3f\")"
   ]
  },
  {
   "cell_type": "markdown",
   "metadata": {},
   "source": [
    "iris 데이터 셋은 다음 컬럼 정보를 가지고 있습니다. Sepal Length, Sepal Width, Petal Length and Petal Width. 자세한 정보는 [scikit-learn iris data](https://scikit-learn.org/stable/auto_examples/datasets/plot_iris_dataset.html) 페이지를 참조하시기 바랍니다."
   ]
  },
  {
   "cell_type": "code",
   "execution_count": 16,
   "metadata": {},
   "outputs": [
    {
     "data": {
      "text/plain": [
       "array([[0. , 5.1, 3.5, 1.4, 0.2],\n",
       "       [0. , 4.9, 3. , 1.4, 0.2],\n",
       "       [0. , 4.7, 3.2, 1.3, 0.2],\n",
       "       [0. , 4.6, 3.1, 1.5, 0.2],\n",
       "       [0. , 5. , 3.6, 1.4, 0.2],\n",
       "       [0. , 5.4, 3.9, 1.7, 0.4],\n",
       "       [0. , 4.6, 3.4, 1.4, 0.3],\n",
       "       [0. , 5. , 3.4, 1.5, 0.2],\n",
       "       [0. , 4.4, 2.9, 1.4, 0.2],\n",
       "       [0. , 4.9, 3.1, 1.5, 0.1]])"
      ]
     },
     "execution_count": 16,
     "metadata": {},
     "output_type": "execute_result"
    }
   ],
   "source": [
    "joined_iris[:10]"
   ]
  },
  {
   "cell_type": "markdown",
   "metadata": {},
   "source": [
    "데이터를 로컬에 저장하면 SageMaker Python SDK에서 제공하는 도구를 사용하여 데이터를 기본 버킷에 업로드할 수 있습니다. "
   ]
  },
  {
   "cell_type": "code",
   "execution_count": 24,
   "metadata": {},
   "outputs": [],
   "source": [
    "# WORK_DIRECTORY = \"data\"\n",
    "\n",
    "train_input = sagemaker_session.upload_data(\n",
    "    './data/iris.csv', bucket=bucket, key_prefix=prefix\n",
    ")"
   ]
  },
  {
   "cell_type": "markdown",
   "metadata": {},
   "source": [
    "## Create a Scikit-learn script to train with <a class=\"anchor\" id=\"create_sklearn_script\"></a>\n",
    "SageMaker는 'Sklearn' Estimator 를 사용하여 Scikit-learn 훈련 스크립트를 실행할 수 있습니다. SageMaker 에서 실행될 때 여러 유용한 환경 변수를 사용하여 교육 환경의 속성에 액세스할 수 있습니다. 예를 들면,\n",
    "\n",
    "* `SM_MODEL_DIR`: 모델 객체를 쓸 디렉토리의 경로를 나타내는 문자열입니다. 이 폴더에 저장된 모든 객체는 교육 작업이 완료된 후 모델 호스팅을 위해 S3에 업로드됩니다.\n",
    "* `SM_OUTPUT_DIR`: output 아티팩트를 쓸 파일 시스템 경로를 나타내는 문자열입니다. output 아티팩트에는 checkpoints, 그래프 및 저장할 기타 파일 (모델 아티팩트 제외) 이 포함될 수 있습니다. 이러한 아티팩트는 모델 아티팩트와 동일한 S3 접두사로 압축되어 S3에 업로드됩니다.\n",
    "\n",
    "'sklearn' Estimator 의 'fit ()' 메소드를 호출 할 때 두 개의 입력 채널 인 'train '과 'test'가 사용되었다고 가정하면 다음과 같은 환경 변수가 설정됩니다. `SM_CHANNEL_[channel_name]`:\n",
    "\n",
    "* `SM_CHANNEL_TRAIN`: 'train' 채널의 데이터를 포함하는 디렉토리 경로를 나타내는 문자열\n",
    "* `SM_CHANNEL_TEST`: 'test' 채널\n",
    "\n",
    "일반적인 훈련 스크립트는 입력 채널에서 데이터를 로드하고, 하이퍼파라미터를 사용하여 훈련을 구성하고, 모델을 학습하고, 모델을 model_dir 에 저장하여 나중에 호스팅할 수 있습니다. 하이퍼 매개 변수는 인수로 스크립트에 전달되고`argparse.argumentParser` 인스턴스로 검색 할 수 있습니다. 아래 예제를 참고합니다.\n",
    "\n",
    "```python\n",
    "from __future__ import print_function\n",
    "\n",
    "import argparse\n",
    "import joblib\n",
    "import os\n",
    "import pandas as pd\n",
    "\n",
    "from sklearn import tree\n",
    "\n",
    "\n",
    "if __name__ == '__main__':\n",
    "    \"\"\"\n",
    "    Train a Random Forest Regressor\n",
    "    \"\"\"\n",
    "    print(\"Training mode\")\n",
    "\n",
    "    try:\n",
    "        X_train, y_train = load_dataset(args.train)\n",
    "        X_test, y_test = load_dataset(args.test)\n",
    "\n",
    "        hyperparameters = {\n",
    "            \"max_depth\": args.max_depth,\n",
    "            \"verbose\": 1,  # show all logs\n",
    "            \"n_jobs\": args.n_jobs,\n",
    "            \"n_estimators\": args.n_estimators,\n",
    "        }\n",
    "        print(\"Training the classifier\")\n",
    "        model = RandomForestRegressor()\n",
    "        model.set_params(**hyperparameters)\n",
    "        model.fit(X_train, y_train)\n",
    "        print(\"Score: {}\".format(model.score(X_test, y_test)))\n",
    "        # joblib.dump(model, open(os.path.join(args.model_dir, \"iris_model.pkl\"), \"wb\"))\n",
    "        joblib.dump(model, os.path.join(args.model_dir, \"model.joblib\"))\n",
    "\n",
    "    except Exception as e:\n",
    "        # Write out an error file. This will be returned as the failureReason in the\n",
    "        # DescribeTrainingJob result.\n",
    "        trc = traceback.format_exc()\n",
    "        with open(os.path.join(output_path, \"failure\"), \"w\") as s:\n",
    "            s.write(\"Exception during training: \" + str(e) + \"\\\\n\" + trc)\n",
    "\n",
    "        # Printing this causes the exception to be in the training job logs, as well.\n",
    "        print(\"Exception during training: \" + str(e) + \"\\\\n\" + trc, file=sys.stderr)\n",
    "\n",
    "        # A non-zero exit code causes the training job to be marked as Failed.\n",
    "        sys.exit(255)\n",
    "\n",
    "\n",
    "def model_fn(model_dir):\n",
    "    \"\"\"Deserialized and return fitted model\n",
    "    \n",
    "    Note that this should have the same name as the serialized model in the main method\n",
    "    \"\"\"\n",
    "    clf = joblib.load(os.path.join(model_dir, \"model.joblib\"))\n",
    "    return clf\n",
    "```"
   ]
  },
  {
   "cell_type": "code",
   "execution_count": 25,
   "metadata": {},
   "outputs": [
    {
     "name": "stdout",
     "output_type": "stream",
     "text": [
      "Writing scikit_learn_iris.py\n"
     ]
    }
   ],
   "source": [
    "%%writefile scikit_learn_iris.py\n",
    "\n",
    "from __future__ import print_function\n",
    "\n",
    "import argparse\n",
    "import joblib\n",
    "import os\n",
    "import pandas as pd\n",
    "\n",
    "from sklearn import tree\n",
    "\n",
    "\n",
    "if __name__ == '__main__':\n",
    "    parser = argparse.ArgumentParser()\n",
    "\n",
    "    # Hyperparameters are described here. In this simple example we are just including one hyperparameter.\n",
    "    # TODO: parser 를 사용하여 max_leaf_nodes 를 불러옵니다. Option: default 는 -1 로 정해줄수 있습니다.\n",
    "    parser.add_argument()\n",
    "\n",
    "    # Sagemaker specific arguments. Defaults are set in the environment variables.\n",
    "    parser.add_argument('--output-data-dir', type=str, default=os.environ['SM_OUTPUT_DATA_DIR'])\n",
    "    parser.add_argument('--model-dir', type=str, default=os.environ['SM_MODEL_DIR'])\n",
    "    parser.add_argument('--train', type=str, default=os.environ['SM_CHANNEL_TRAIN'])\n",
    "\n",
    "    args = parser.parse_args()\n",
    "\n",
    "    # Take the set of files and read them all into a single pandas dataframe\n",
    "    input_files = [ os.path.join(args.train, file) for file in os.listdir(args.train) ]\n",
    "    if len(input_files) == 0:\n",
    "        raise ValueError(('There are no files in {}.\\n' +\n",
    "                          'This usually indicates that the channel ({}) was incorrectly specified,\\n' +\n",
    "                          'the data specification in S3 was incorrectly specified or the role specified\\n' +\n",
    "                          'does not have permission to access the data.').format(args.train, \"train\"))\n",
    "    raw_data = [ pd.read_csv(file, header=None, engine=\"python\") for file in input_files ]\n",
    "    train_data = pd.concat(raw_data)\n",
    "\n",
    "    # labels are in the first column\n",
    "    # TODO: train 을 위한 feature 변수와 label 변수를 분리합니다.\n",
    "    train_X = \n",
    "    train_y =\n",
    "    \n",
    "    # Here we support a single hyperparameter, 'max_leaf_nodes'. Note that you can add as many\n",
    "    # as your training my require in the ArgumentParser above.\n",
    "    # TODO: argument 변수에서 max_leaf_nodes 를 불러와서 변수를 만듭니다.\n",
    "    max_leaf_nodes = \n",
    "\n",
    "    # Now use scikit-learn's decision tree classifier to train the model.\n",
    "    clf = tree.DecisionTreeClassifier(max_leaf_nodes=max_leaf_nodes)\n",
    "    clf = clf.fit(train_X, train_y)\n",
    "\n",
    "    # Print the coefficients of the trained classifier, and save the coefficients\n",
    "    joblib.dump(clf, os.path.join(args.model_dir, \"model.joblib\"))\n",
    "\n",
    "\n",
    "def model_fn(model_dir):\n",
    "    \"\"\"Deserialized and return fitted model\n",
    "    \n",
    "    Note that this should have the same name as the serialized model in the main method\n",
    "    \"\"\"\n",
    "    clf = joblib.load(os.path.join(model_dir, \"model.joblib\"))\n",
    "    return clf"
   ]
  },
  {
   "cell_type": "markdown",
   "metadata": {},
   "source": [
    "Scikit-Learn 컨테이너는 훈련 스크립트를 가져 오기 때문에 컨테이너가 실수로 훈련 코드를 실행하지 않도록 항상 \\__name__ == \\__main__ 에 훈련 코드를 넣어야합니다.\n",
    "\n",
    "환경 변수에 대한 더 자세한 정보는 다음을 살펴보시기 바랍니다. https://github.com/aws/sagemaker-containers."
   ]
  },
  {
   "cell_type": "markdown",
   "metadata": {},
   "source": [
    "## Create SageMaker Scikit Estimator <a class=\"anchor\" id=\"create_sklearn_estimator\"></a>\n",
    "\n",
    "SgeMaker에서 Scikit-Learn 훈련 스크립트를 실행하기 위해, 우리는 몇 가지 생성자 인수를 받아들이는 `sagemaker.sklearn.estimator.sklearn` Estimator 를 구성합니다:\n",
    "\n",
    "* __entry_point__: SageMaker는 학습 및 예측을 위해 실행되는 파이썬 스크립트 경로입니다.\n",
    "* __role__: Role ARN\n",
    "* __instance_type__ *(optional)*: 학습을 위한 SageMaker 인스턴스의 유형입니다. __Note__: Because Scikit-learn does not natively support GPU training, Sagemaker Scikit-learn does not currently support training on GPU instance types.\n",
    "* __sagemaker_session__ *(optional)*: The session used to train on Sagemaker.\n",
    "* __hyperparameters__ *(optional)*: A dictionary passed to the train function as hyperparameters.\n",
    "\n",
    "To see the code for the SKLearn Estimator, see here: https://github.com/aws/sagemaker-python-sdk/tree/master/src/sagemaker/sklearn"
   ]
  },
  {
   "cell_type": "code",
   "execution_count": 44,
   "metadata": {},
   "outputs": [],
   "source": [
    "from sagemaker.sklearn.estimator import SKLearn\n",
    "\n",
    "FRAMEWORK_VERSION = \"0.23-1\"\n",
    "script_path = \"scikit_learn_iris.py\"\n",
    "\n",
    "sklearn = SKLearn(\n",
    "    entry_point=script_path,\n",
    "    framework_version=FRAMEWORK_VERSION,\n",
    "    instance_type=\"ml.c4.xlarge\",\n",
    "    role=role,\n",
    "    sagemaker_session=sagemaker_session,\n",
    "    hyperparameters={\"max_leaf_nodes\": 30},\n",
    ")"
   ]
  },
  {
   "cell_type": "markdown",
   "metadata": {},
   "source": [
    "## Train SKLearn Estimator on Iris data <a class=\"anchor\" id=\"train_sklearn\"></a>\n",
    "교육은 매우 간단합니다. Estimator 에 fit 이라는 함수를 호출합니다! 그러면 SageMaker 훈련 작업이 시작되어 데이터를 다운로드하고, 제공된 스크립트 파일에서 scikit-learn 코드를 호출하고, 스크립트가 생성하는 모든 모델 아티팩트를 저장합니다."
   ]
  },
  {
   "cell_type": "code",
   "execution_count": null,
   "metadata": {
    "scrolled": true
   },
   "outputs": [],
   "source": [
    "sklearn.fit({\"train\": train_input})"
   ]
  },
  {
   "cell_type": "markdown",
   "metadata": {},
   "source": [
    "## Using the trained model to make inference requests <a class=\"anchor\" id=\"inference\"></a>\n",
    "\n",
    "### Deploy the model <a class=\"anchor\" id=\"deploy\"></a>\n",
    "\n",
    "모델을 SageMaker 호스팅에 배포하려면 적합 모델에 대한 'deploy' 함수 호출이 필요합니다. 이 호출은 인스턴스 수와 인스턴스 유형을 사용합니다."
   ]
  },
  {
   "cell_type": "code",
   "execution_count": 28,
   "metadata": {},
   "outputs": [
    {
     "name": "stdout",
     "output_type": "stream",
     "text": [
      "-------------!"
     ]
    }
   ],
   "source": [
    "predictor = sklearn.deploy(initial_instance_count=1, instance_type=\"ml.m5.xlarge\")"
   ]
  },
  {
   "cell_type": "markdown",
   "metadata": {},
   "source": [
    "### Choose some data and use it for a prediction <a class=\"anchor\" id=\"prediction_request\"></a>\n",
    "\n",
    "몇 가지 예측을 수행하기 위해 교육에 사용한 일부 데이터를 추출하고 이에 대한 예측을 수행합니다. 이것은 물론 나쁜 통계적 관행이지만 메커니즘이 어떻게 작동하는지 확인하는 좋은 방법입니다."
   ]
  },
  {
   "cell_type": "code",
   "execution_count": 29,
   "metadata": {},
   "outputs": [],
   "source": [
    "import itertools\n",
    "import pandas as pd\n",
    "\n",
    "shape = pd.read_csv(\"data/iris.csv\", header=None)\n",
    "\n",
    "a = [50 * i for i in range(3)]\n",
    "b = [40 + i for i in range(10)]\n",
    "indices = [i + j for i, j in itertools.product(a, b)]\n",
    "\n",
    "test_data = shape.iloc[indices[:-1]]\n",
    "test_X = test_data.iloc[:, 1:]\n",
    "test_y = test_data.iloc[:, 0]"
   ]
  },
  {
   "cell_type": "markdown",
   "metadata": {},
   "source": [
    "예측은 배포에서 돌아온 예측 변수와 예측을 수행하려는 데이터로 예측을 호출하는 것만큼 쉽습니다. Endpoint의 출력은 분류 예측의 숫자 표현을 반환합니다. 원래 데이터 집합에서 이들은 꽃 이름이지만 이 예에서는 레이블은 숫자입니다.우리는 우리가 파싱 한 원래 레이블과 비교할 수 있습니다."
   ]
  },
  {
   "cell_type": "code",
   "execution_count": 31,
   "metadata": {},
   "outputs": [],
   "source": [
    "prediction = predictor.predict(test_X.values)"
   ]
  },
  {
   "cell_type": "code",
   "execution_count": 35,
   "metadata": {},
   "outputs": [],
   "source": [
    "from sklearn.metrics import classification_report, make_scorer, accuracy_score, precision_score\n",
    "from sklearn.metrics import confusion_matrix"
   ]
  },
  {
   "cell_type": "code",
   "execution_count": 37,
   "metadata": {},
   "outputs": [],
   "source": [
    "# TODO: confusion matrix/classification report 를 출력해봅니다."
   ]
  },
  {
   "cell_type": "markdown",
   "metadata": {},
   "source": [
    "### Endpoint cleanup <a class=\"anchor\" id=\"endpoint_cleanup\"></a>\n",
    "\n",
    "Endpoint 작업이 완료되면 정리할 수 있습니다."
   ]
  },
  {
   "cell_type": "code",
   "execution_count": 38,
   "metadata": {},
   "outputs": [],
   "source": [
    "predictor.delete_endpoint()"
   ]
  },
  {
   "cell_type": "markdown",
   "metadata": {},
   "source": [
    "## Batch Transform <a class=\"anchor\" id=\"batch_transform\"></a>\n",
    "또한 SageMaker Batch transform 을 사용하여 S3 데이터에 대한 비동기 배치 추론을 위해 훈련된 모델을 사용할 수 있습니다."
   ]
  },
  {
   "cell_type": "code",
   "execution_count": 45,
   "metadata": {},
   "outputs": [
    {
     "name": "stderr",
     "output_type": "stream",
     "text": [
      "No finished training job found associated with this estimator. Please make sure this estimator is only used for building workflow config\n"
     ]
    }
   ],
   "source": [
    "# Define a SKLearn Transformer from the trained SKLearn Estimator\n",
    "transformer = sklearn.transformer(instance_count=1, instance_type=\"ml.m5.xlarge\")"
   ]
  },
  {
   "cell_type": "markdown",
   "metadata": {},
   "source": [
    "### Prepare Input Data <a class=\"anchor\" id=\"prepare_input_data\"></a>\n",
    "학습 데이터에서 100 행의 무작위 샘플을 10 개 추출한 다음 레이블 (Y) 에서 피처 (X) 를 분할합니다. 그런 다음 입력 데이터를 S3의 지정된 위치에 업로드합니다."
   ]
  },
  {
   "cell_type": "code",
   "execution_count": 46,
   "metadata": {},
   "outputs": [],
   "source": [
    "%%bash\n",
    "# Randomly sample the iris dataset 10 times, then split X and Y\n",
    "mkdir -p batch_data/XY batch_data/X batch_data/Y\n",
    "for i in {0..9}; do\n",
    "    cat data/iris.csv | shuf -n 100 > batch_data/XY/iris_sample_${i}.csv\n",
    "    cat batch_data/XY/iris_sample_${i}.csv | cut -d',' -f2- > batch_data/X/iris_sample_X_${i}.csv\n",
    "    cat batch_data/XY/iris_sample_${i}.csv | cut -d',' -f1 > batch_data/Y/iris_sample_Y_${i}.csv\n",
    "done"
   ]
  },
  {
   "cell_type": "code",
   "execution_count": 47,
   "metadata": {},
   "outputs": [],
   "source": [
    "# Upload input data from local filesystem to S3\n",
    "batch_input_s3 = sagemaker_session.upload_data(\"batch_data/X\", key_prefix=prefix + \"/batch_input\")"
   ]
  },
  {
   "cell_type": "code",
   "execution_count": 50,
   "metadata": {},
   "outputs": [
    {
     "data": {
      "text/plain": [
       "'s3://sagemaker-ap-northeast-2-806174985048/byos/scikit-iris/batch_input'"
      ]
     },
     "execution_count": 50,
     "metadata": {},
     "output_type": "execute_result"
    }
   ],
   "source": [
    "batch_input_s3"
   ]
  },
  {
   "cell_type": "markdown",
   "metadata": {},
   "source": [
    "### Run Transform Job <a class=\"anchor\" id=\"run_transform_job\"></a>\n",
    "Transformer 를 사용하여 S3 입력 데이터에 대해 변환 작업을 실행합니다."
   ]
  },
  {
   "cell_type": "code",
   "execution_count": null,
   "metadata": {},
   "outputs": [],
   "source": [
    "# Start a transform job and wait for it to finish\n",
    "transformer.transform(batch_input_s3, content_type=\"text/csv\")\n",
    "print(\"Waiting for transform job: \" + transformer.model_name)\n",
    "transformer.wait()"
   ]
  },
  {
   "cell_type": "markdown",
   "metadata": {},
   "source": [
    "### Check Output Data  <a class=\"anchor\" id=\"check_output_data\"></a>\n",
    "변환 작업이 완료되면 S3에서 출력 데이터를 다운로드합니다. 입력 데이터의 각 파일 “F”에 대해 각 입력 행에서 예측 된 레이블을 포함하는 해당 파일 “f.out”이 있습니다. 우리는 이전에 저장된 실제 레이블과 예측 된 레이블을 비교할 수 있습니다."
   ]
  },
  {
   "cell_type": "code",
   "execution_count": 56,
   "metadata": {},
   "outputs": [
    {
     "name": "stdout",
     "output_type": "stream",
     "text": [
      "head: cannot open ‘batch_data/output/*’ for reading: No such file or directory\n"
     ]
    }
   ],
   "source": [
    "# Download the output data from S3 to local filesystem\n",
    "batch_output = transformer.output_path\n",
    "!mkdir -p batch_data/output\n",
    "!aws s3 cp --recursive $batch_output/ batch_data/output/\n",
    "# Head to see what the batch output looks like\n",
    "!head batch_data/output/*"
   ]
  },
  {
   "cell_type": "code",
   "execution_count": null,
   "metadata": {},
   "outputs": [],
   "source": [
    "%%bash\n",
    "# For each sample file, compare the predicted labels from batch output to the true labels\n",
    "for i in {1..9}; do\n",
    "    diff -s batch_data/Y/iris_sample_Y_${i}.csv \\\n",
    "        <(cat batch_data/output/iris_sample_X_${i}.csv.out | sed 's/[[\"]//g' | sed 's/, \\|]/\\n/g') \\\n",
    "        | sed \"s/\\/dev\\/fd\\/63/batch_data\\/output\\/iris_sample_X_${i}.csv.out/\"\n",
    "done"
   ]
  },
  {
   "cell_type": "code",
   "execution_count": null,
   "metadata": {},
   "outputs": [],
   "source": [
    "## SKLearn 을 사용한 Ridge 모델 예제\n",
    "'''\n",
    "DERIVED FROM:https://github.com/aws/sagemaker-python-sdk/blob/master/src/sagemaker/sklearn/README.rst\n",
    "Preparing the Scikit-learn training script\n",
    "Your Scikit-learn training script must be a Python 2.7 or 3.5 compatible source file.\n",
    "The training script is very similar to a training script you might run outside of SageMaker, \n",
    "but you can access useful properties about the training environment through various environment variables, \n",
    "such as\n",
    "- SM_MODEL_DIR: \n",
    "        A string representing the path to the directory to write model artifacts to. \n",
    "        These artifacts are uploaded to S3 for model hosting.\n",
    "- SM_OUTPUT_DATA_DIR: \n",
    "        A string representing the filesystem path to write output artifacts to. \n",
    "        Output artifacts may include checkpoints, graphs, and other files to save, \n",
    "        not including model artifacts. These artifacts are compressed and uploaded \n",
    "        to S3 to the same S3 prefix as the model artifacts.\n",
    "        Supposing two input channels, 'train' and 'test', \n",
    "        were used in the call to the Scikit-learn estimator's fit() method, \n",
    "        the following will be set, following the format \"SM_CHANNEL_[channel_name]\":\n",
    "- SM_CHANNEL_TRAIN: \n",
    "        A string representing the path to the directory containing data in the 'train' channel\n",
    "- SM_CHANNEL_TEST: \n",
    "        Same as above, but for the 'test' channel.\n",
    "        A typical training script loads data from the input channels, \n",
    "        configures training with hyperparameters, trains a model, \n",
    "        and saves a model to model_dir so that it can be hosted later. \n",
    "        Hyperparameters are passed to your script as arguments and can \n",
    "        be retrieved with an argparse.ArgumentParser instance. \n",
    "        For example, a training script might start with the following:\n",
    "Because the SageMaker imports your training script, \n",
    "you should put your training code in a main guard (if __name__=='__main__':) \n",
    "if you are using the same script to host your model, \n",
    "so that SageMaker does not inadvertently run your training code at the wrong point in execution.\n",
    "For more on training environment variables, please visit https://github.com/aws/sagemaker-containers.\n",
    "'''\n",
    "\n",
    "\n",
    "import argparse\n",
    "import os\n",
    "\n",
    "import pandas as pd\n",
    "\n",
    "import sklearn\n",
    "\n",
    "from sklearn import linear_model\n",
    "\n",
    "import numpy as np\n",
    "\n",
    "import six\n",
    "from six import StringIO, BytesIO\n",
    "\n",
    "# from sagemaker.content_types import CONTENT_TYPE_JSON, CONTENT_TYPE_CSV, CONTENT_TYPE_NPY\n",
    "# Interesting fact: \n",
    "#   on SageMaker model training instance, py-sagemaker is not installed\n",
    "# import sagemaker \n",
    "\n",
    "# matplotlib is not available \n",
    "# from matplotlib import pyplot as plt\n",
    "\n",
    "from sklearn.externals import joblib\n",
    "import json \n",
    "\n",
    "from sagemaker_containers.beta.framework import (\n",
    "    content_types, encoders, env, modules, transformer, worker)\n",
    "\n",
    "\n",
    "fn = 'sample_data.json'\n",
    "\n",
    "MA_list = [50, 100, 200, 300, 400, 800, 1600]\n",
    "intput_col = [\"MA-{}\".format(ma_lag) for ma_lag in MA_list[:-1]]\n",
    "benchmark_col = 'MA-1600'\n",
    "\n",
    "\n",
    "'''\n",
    "The RealTimePredictor used by Scikit-learn in the SageMaker \n",
    "Python SDK serializes NumPy arrays to the NPY format by default, \n",
    "with Content-Type application/x-npy. The SageMaker Scikit-learn model server \n",
    "can deserialize NPY-formatted data (along with JSON and CSV data).\n",
    "'''\n",
    "def input_fn(request_body, request_content_type):\n",
    "    \"\"\"An input_fn that loads a pickled numpy array\"\"\"\n",
    "    # print(\"request_body=\",str(request_body))\n",
    "    # print(\"np.load(StringIO(request_body))=\",np.load(StringIO(request_body)))\n",
    "\n",
    "    if request_content_type == \"application/python-pickle\":\n",
    "        array = np.load(BytesIO((request_body)))\n",
    "        # print(\"array=\",array)\n",
    "        return array\n",
    "    elif request_content_type == 'application/json':\n",
    "        jsondata = json.load(StringIO(request_body))\n",
    "        normalized_data, benchmark_data = process_input_data(jsondata)\n",
    "        # print(\"normalized_data=\",normalized_data)\n",
    "        return normalized_data, benchmark_data\n",
    "    else:\n",
    "        # Handle other content-types here or raise an Exception\n",
    "        # if the content type is not supported.\n",
    "        raise ValueError(\"{} not supported by script!\".format(request_content_type))\n",
    "\n",
    "def output_fn(prediction, accept):\n",
    "    \"\"\"Format prediction output\n",
    "    The default accept/content-type between containers for serial inference is JSON.\n",
    "    We also want to set the ContentType or mimetype as the same value as accept so the next\n",
    "    container can read the response payload correctly.\n",
    "    \"\"\"\n",
    "    if accept == \"application/json\":\n",
    "        return worker.Response(json.dumps(prediction), accept, mimetype=accept)\n",
    "    elif accept == 'text/csv':\n",
    "        return worker.Response(encoders.encode(prediction, accept), accept, mimetype=accept)\n",
    "    else:\n",
    "        raise ValueError(\"{} accept type is not supported by this script.\".format(accept))\n",
    "\n",
    "def predict_fn(input_data, model):\n",
    "    \"\"\"Preprocess input data\n",
    "    We implement this because the default predict_fn uses .predict(), but our model is a preprocessor\n",
    "    so we want to use .transform().\n",
    "    The output is returned in the following order:\n",
    "        rest of features either one hot encoded or standardized\n",
    "    \"\"\"\n",
    "    normalized_data, benchmark_data = input_data\n",
    "    \n",
    "    prediction = model.predict(normalized_data)\n",
    "    \n",
    "    output = np.array(prediction) * np.array(benchmark_data)\n",
    "    \n",
    "    return {'prediction-base-time': str(normalized_data.index[-1]), \n",
    "            'predicted-value': output[-1]}\n",
    "\n",
    "def model_fn(model_dir):\n",
    "    clf = joblib.load(os.path.join(model_dir, \"model.joblib\"))\n",
    "    return clf\n",
    "\n",
    "def process_input_data(cmcjsondata, for_training = False):\n",
    "    raw_data = pd.DataFrame(cmcjsondata)\n",
    "    dat = pd.DataFrame(list(raw_data['price_usd']), columns=['timestamp', 'usd'])\n",
    "    dat['dt_utc'] = pd.to_datetime(dat['timestamp']*1e6)\n",
    "    dat = dat.set_index('dt_utc')\n",
    "    resampled_data = dat['usd'].resample('30S').mean().interpolate('linear')\n",
    "\n",
    "    feature = {}\n",
    "\n",
    "    if for_training:\n",
    "        Y = resampled_data.rolling(2880).median().shift(-2879) # next 24 hour\n",
    "        feature['Y'] = Y\n",
    "\n",
    "    for ma_lag in MA_list:\n",
    "        feature[\"MA-{}\".format(ma_lag)] = resampled_data.rolling(ma_lag).mean()\n",
    "\n",
    "    data = pd.DataFrame(feature).dropna()\n",
    "    benchmark_data = data[benchmark_col].copy()\n",
    "    normalized_data = data.div(data[benchmark_col], axis=0)\n",
    "    \n",
    "    _col = intput_col + (['Y'] if for_training else [])\n",
    "\n",
    "    return normalized_data[_col], benchmark_data\n",
    "    \n",
    "def run_training(args):\n",
    "\n",
    "    with open(os.path.join(args.train, fn)) as fp:\n",
    "        jsondata = json.load(fp)\n",
    "    normalized_data, _ = process_input_data(jsondata, for_training = True)\n",
    "\n",
    "    model = linear_model.Ridge()\n",
    "    model.fit(normalized_data[intput_col], normalized_data['Y'])\n",
    "\n",
    "    joblib.dump(model, os.path.join(args.model_dir, \"model.joblib\"))\n",
    "\n",
    "\n",
    "if __name__ =='__main__':\n",
    "\n",
    "    parser = argparse.ArgumentParser()\n",
    "\n",
    "    # hyperparameters sent by the client are passed as command-line arguments to the script.\n",
    "    parser.add_argument('--epochs', type=int, default=50)\n",
    "    parser.add_argument('--batch-size', type=int, default=64)\n",
    "    parser.add_argument('--learning-rate', type=float, default=0.05)\n",
    "\n",
    "    # Data, model, and output directories\n",
    "    parser.add_argument('--output-data-dir', type=str, default=os.environ.get('SM_OUTPUT_DATA_DIR'))\n",
    "    parser.add_argument('--model-dir', type=str, default=os.environ.get('SM_MODEL_DIR'))\n",
    "    parser.add_argument('--train', type=str, default=os.environ.get('SM_CHANNEL_TRAIN'))\n",
    "    parser.add_argument('--test', type=str, default=os.environ.get('SM_CHANNEL_TEST'))\n",
    "\n",
    "    args, _ = parser.parse_known_args()\n",
    "\n",
    "    run_training(args)\n",
    "\n",
    "    # ... load from args.train and args.test, train a model, write model to args.model_dir."
   ]
  },
  {
   "cell_type": "code",
   "execution_count": null,
   "metadata": {},
   "outputs": [],
   "source": []
  }
 ],
 "metadata": {
  "instance_type": "ml.t3.medium",
  "kernelspec": {
   "display_name": "conda_python3",
   "language": "python",
   "name": "conda_python3"
  },
  "language_info": {
   "codemirror_mode": {
    "name": "ipython",
    "version": 3
   },
   "file_extension": ".py",
   "mimetype": "text/x-python",
   "name": "python",
   "nbconvert_exporter": "python",
   "pygments_lexer": "ipython3",
   "version": "3.6.13"
  }
 },
 "nbformat": 4,
 "nbformat_minor": 4
}
